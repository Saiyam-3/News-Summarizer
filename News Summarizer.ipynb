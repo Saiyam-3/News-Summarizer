{
 "cells": [
  {
   "cell_type": "code",
   "execution_count": 1,
   "metadata": {},
   "outputs": [],
   "source": [
    "import pandas as pd\n",
    "import numpy as np\n",
    "import tkinter as tk\n",
    "import nltk\n",
    "from textblob import TextBlob"
   ]
  },
  {
   "cell_type": "code",
   "execution_count": 2,
   "metadata": {},
   "outputs": [],
   "source": [
    "from newspaper import Article"
   ]
  },
  {
   "cell_type": "code",
   "execution_count": 3,
   "metadata": {},
   "outputs": [],
   "source": [
    "def summarize():\n",
    "    url=utext.get('1.0','end').strip()\n",
    "    article=Article(url)\n",
    "    article.download()\n",
    "    article.parse()\n",
    "    article.nlp()\n",
    "    title.config(state='normal')\n",
    "    author.config(state='normal')\n",
    "    publication.config(state='normal')\n",
    "    Summary.config(state='normal')\n",
    "    Sentiment.config(state='normal')\n",
    "    \n",
    "    title.delete('1.0','end')\n",
    "    title.insert('1.0',article.title)\n",
    "    \n",
    "    author.delete('1.0','end')\n",
    "    author.insert('1.0',article.authors)\n",
    "    \n",
    "    publication.delete('1.0','end')\n",
    "    publication.insert('1.0',article.publish_date)\n",
    "    \n",
    "    Summary.delete('1.0','end')\n",
    "    Summary.insert('1.0',article.summary)\n",
    "\n",
    "    analysis=TextBlob(article.text)\n",
    "    Sentiment.delete('1.0','end')\n",
    "    Sentiment.insert(\"1.0\",f'Polarity:{analysis.polarity} Sentiment:{\"positive\" if analysis.polarity > 0 else \"negative\" if analysis.polarity<0 else \"neutral\"}')\n",
    "    \n",
    "    title.config(state='disabled')\n",
    "    author.config(state='disabled')\n",
    "    publication.config(state='disabled')\n",
    "    Summary.config(state='disabled')\n",
    "  "
   ]
  },
  {
   "cell_type": "code",
   "execution_count": 4,
   "metadata": {},
   "outputs": [],
   "source": [
    "url='https://edition.cnn.com/2020/09/13/tech/microsoft-tiktok-bytedance/index.html'"
   ]
  },
  {
   "cell_type": "code",
   "execution_count": 5,
   "metadata": {},
   "outputs": [],
   "source": [
    "root=tk.Tk()"
   ]
  },
  {
   "cell_type": "code",
   "execution_count": 6,
   "metadata": {},
   "outputs": [
    {
     "data": {
      "text/plain": [
       "''"
      ]
     },
     "execution_count": 6,
     "metadata": {},
     "output_type": "execute_result"
    }
   ],
   "source": [
    "root.title('News Summarizer')\n",
    "root.geometry('1200x600')\n"
   ]
  },
  {
   "cell_type": "code",
   "execution_count": 7,
   "metadata": {},
   "outputs": [],
   "source": [
    "tlabel=tk.Label(root,text='Title')\n",
    "tlabel.pack()\n",
    "title=tk.Text(root,height=1,width=140)\n",
    "title.config(state='disabled',bg='#dddddd')\n",
    "title.pack()"
   ]
  },
  {
   "cell_type": "code",
   "execution_count": 8,
   "metadata": {},
   "outputs": [],
   "source": [
    "alabel=tk.Label(root,text='Author')\n",
    "alabel.pack()\n",
    "author=tk.Text(root,height=1,width=140)\n",
    "author.config(state='disabled',bg='#dddddd')\n",
    "author.pack()"
   ]
  },
  {
   "cell_type": "code",
   "execution_count": 9,
   "metadata": {},
   "outputs": [],
   "source": [
    "plabel=tk.Label(root,text='Publication Date')\n",
    "plabel.pack()\n",
    "publication=tk.Text(root,height=1,width=140)\n",
    "publication.config(state='disabled',bg='#dddddd')\n",
    "publication.pack()"
   ]
  },
  {
   "cell_type": "code",
   "execution_count": 10,
   "metadata": {},
   "outputs": [],
   "source": [
    "slabel=tk.Label(root,text='Summary')\n",
    "slabel.pack()\n",
    "Summary=tk.Text(root,height=1,width=140)\n",
    "Summary.config(state='disabled',bg='#dddddd')\n",
    "Summary.pack()"
   ]
  },
  {
   "cell_type": "code",
   "execution_count": 11,
   "metadata": {},
   "outputs": [],
   "source": [
    "selabel=tk.Label(root,text='Sentiment')\n",
    "selabel.pack()\n",
    "Sentiment=tk.Text(root,height=1,width=140)\n",
    "Sentiment.config(state='disabled',bg='#dddddd')\n",
    "Sentiment.pack()"
   ]
  },
  {
   "cell_type": "code",
   "execution_count": 12,
   "metadata": {},
   "outputs": [],
   "source": [
    "ulabel=tk.Label(root,text='url')\n",
    "ulabel.pack()\n",
    "utext=tk.Text(root,height=1,width=140)\n",
    "utext.pack()"
   ]
  },
  {
   "cell_type": "code",
   "execution_count": 13,
   "metadata": {},
   "outputs": [],
   "source": [
    "btn=tk.Button(root,text='Summarize',command=summarize)\n",
    "btn.pack()"
   ]
  },
  {
   "cell_type": "code",
   "execution_count": 14,
   "metadata": {},
   "outputs": [
    {
     "name": "stderr",
     "output_type": "stream",
     "text": [
      "Exception in Tkinter callback\n",
      "Traceback (most recent call last):\n",
      "  File \"C:\\Users\\saiya\\Anaconda3\\lib\\tkinter\\__init__.py\", line 1705, in __call__\n",
      "    return self.func(*args)\n",
      "  File \"<ipython-input-3-0f7b4d942305>\", line 20, in summarize\n",
      "    publication.insert('1.0',article.publish_date)\n",
      "  File \"C:\\Users\\saiya\\Anaconda3\\lib\\tkinter\\__init__.py\", line 3272, in insert\n",
      "    self.tk.call((self._w, 'insert', index, chars) + args)\n",
      "_tkinter.TclError: wrong # args: should be \".!text3 insert index chars ?tagList chars tagList ...?\"\n",
      "Exception in Tkinter callback\n",
      "Traceback (most recent call last):\n",
      "  File \"C:\\Users\\saiya\\Anaconda3\\lib\\tkinter\\__init__.py\", line 1705, in __call__\n",
      "    return self.func(*args)\n",
      "  File \"<ipython-input-3-0f7b4d942305>\", line 20, in summarize\n",
      "    publication.insert('1.0',article.publish_date)\n",
      "  File \"C:\\Users\\saiya\\Anaconda3\\lib\\tkinter\\__init__.py\", line 3272, in insert\n",
      "    self.tk.call((self._w, 'insert', index, chars) + args)\n",
      "_tkinter.TclError: wrong # args: should be \".!text3 insert index chars ?tagList chars tagList ...?\"\n",
      "Exception in Tkinter callback\n",
      "Traceback (most recent call last):\n",
      "  File \"C:\\Users\\saiya\\Anaconda3\\lib\\tkinter\\__init__.py\", line 1705, in __call__\n",
      "    return self.func(*args)\n",
      "  File \"<ipython-input-3-0f7b4d942305>\", line 20, in summarize\n",
      "    publication.insert('1.0',article.publish_date)\n",
      "  File \"C:\\Users\\saiya\\Anaconda3\\lib\\tkinter\\__init__.py\", line 3272, in insert\n",
      "    self.tk.call((self._w, 'insert', index, chars) + args)\n",
      "_tkinter.TclError: wrong # args: should be \".!text3 insert index chars ?tagList chars tagList ...?\"\n"
     ]
    }
   ],
   "source": [
    "root.mainloop()"
   ]
  },
  {
   "cell_type": "code",
   "execution_count": null,
   "metadata": {},
   "outputs": [],
   "source": []
  }
 ],
 "metadata": {
  "kernelspec": {
   "display_name": "Python 3",
   "language": "python",
   "name": "python3"
  },
  "language_info": {
   "codemirror_mode": {
    "name": "ipython",
    "version": 3
   },
   "file_extension": ".py",
   "mimetype": "text/x-python",
   "name": "python",
   "nbconvert_exporter": "python",
   "pygments_lexer": "ipython3",
   "version": "3.7.6"
  }
 },
 "nbformat": 4,
 "nbformat_minor": 4
}
